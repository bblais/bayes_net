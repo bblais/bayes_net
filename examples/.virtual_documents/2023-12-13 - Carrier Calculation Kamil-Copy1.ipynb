from bayes_net import *





H=Variable("Historical",[True,False])
e3=Variable("e3",[True,False])

e2=Variable("e2",[True,False],parents=[H,e3])

e4=Variable("e4",[True,False],parents=[H,e2,e3])
e5=Variable("e5",[True,False],parents=[H,e3])
net=Network([H,e2,e3,e4,e5])
net











H=Variable("Historical",[True,False])
H.set_cpt([0.5,0.5])
print(H.cpt)


e3=Variable("After_9th",[True,False])
e3.set_cpt([0.5,0.5])
print(e3.cpt)


def LS(h,N):
    return (h+1)/(N+2)


N_hb,N_ha,N_mb,N_ma=(0, 26, 13, 1)
N_h=N_hb+N_ha
N_m=N_mb+N_ma
N=N_h+N_m


e2=Variable("Rank_Raglan",[True,False],parents=[H,e3])
e2.set_cpt([LS(N_ha,N_h)*LS(N_h,N),
            1-LS(N_ha,N_h)*LS(N_h,N),
            LS(N_hb,N_h)*LS(N_h,N),
            1-LS(N_hb,N_h)*LS(N_h,N),
            LS(N_ma,N_m)*LS(N_m,N),
            1-LS(N_ma,N_m)*LS(N_m,N),
            LS(N_mb,N_m)*LS(N_m,N),
            1-LS(N_mb,N_m)*LS(N_m,N),
           ])
print(e2.cpt)


net=Network([H,e2,e3])
net





net.P("Historical | After_9th=True and Rank_Raglan=True")


net.P("Historical | Rank_Raglan=True")





N_hb,N_ha,N_mb,N_ma=(0, 17, 8, 1)
N_h=N_hb+N_ha
N_m=N_mb+N_ma
N=N_h+N_m


e4=Variable("Founder",[True,False],parents=[H,e3])
e4.set_cpt([LS(N_ha,N_h)*LS(N_h,N),
            1-LS(N_ha,N_h)*LS(N_h,N),
            LS(N_hb,N_h)*LS(N_h,N),
            1-LS(N_hb,N_h)*LS(N_h,N),
            LS(N_ma,N_m)*LS(N_m,N),
            1-LS(N_ma,N_m)*LS(N_m,N),
            LS(N_mb,N_m)*LS(N_m,N),
            1-LS(N_mb,N_m)*LS(N_m,N),
           ])
print(e4.cpt)


N_hb,N_ha,N_mb,N_ma=(0, 6, 0, 0)
N_h=N_hb+N_ha
N_m=N_mb+N_ma
N=N_h+N_m


e5=Variable("Daniel",[True,False],parents=[H,e3])
e5.set_cpt([LS(N_ha,N_h)*LS(N_h,N),
            1-LS(N_ha,N_h)*LS(N_h,N),
            LS(N_hb,N_h)*LS(N_h,N),
            1-LS(N_hb,N_h)*LS(N_h,N),
            LS(N_ma,N_m)*LS(N_m,N),
            1-LS(N_ma,N_m)*LS(N_m,N),
            LS(N_mb,N_m)*LS(N_m,N),
            1-LS(N_mb,N_m)*LS(N_m,N),
           ])
print(e5.cpt)


net=Network([H,e2,e3,e4,e5])


net.P("Historical | Rank_Raglan=True")


net.P("Historical | Rank_Raglan=True and Founder=True and Daniel=True and After_9th=True")









