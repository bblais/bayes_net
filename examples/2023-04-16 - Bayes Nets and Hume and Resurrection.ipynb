{
 "cells": [
  {
   "cell_type": "markdown",
   "id": "134b51ff-363f-4117-841d-a6b398f4b1c4",
   "metadata": {},
   "source": [
    "https://medium.com/interfaith-now/does-evidence-for-jesus-resurrection-meet-hume-s-criteria-for-miracles-b23b069dd2e7"
   ]
  },
  {
   "cell_type": "code",
   "execution_count": 1,
   "id": "22895c96-fe45-4107-a030-f804efd5423f",
   "metadata": {},
   "outputs": [],
   "source": [
    "from bayes_net import *"
   ]
  },
  {
   "cell_type": "code",
   "execution_count": 2,
   "id": "cdbc15b3-d7e0-4e88-85e9-6dd616500453",
   "metadata": {},
   "outputs": [
    {
     "data": {
      "text/plain": [
       "  Theism       p      \n",
       "  ======       =      \n",
       "   True     0.500000  \n",
       "  False     0.500000  "
      ]
     },
     "execution_count": 2,
     "metadata": {},
     "output_type": "execute_result"
    }
   ],
   "source": [
    "T=Variable(\"Theism\",[True,False])\n",
    "T.set_cpt([0.5,0.5])\n",
    "T.cpt"
   ]
  },
  {
   "cell_type": "code",
   "execution_count": 3,
   "id": "138521bb-0b2f-4dfb-9d41-8866b69eac4e",
   "metadata": {},
   "outputs": [
    {
     "data": {
      "text/plain": [
       "  Theism    Messiah       p      \n",
       "  ======    =======       =      \n",
       "   True       True     0.250000  \n",
       "   True      False     0.750000  \n",
       "  False       True     0.000000  \n",
       "  False      False     1.000000  "
      ]
     },
     "execution_count": 3,
     "metadata": {},
     "output_type": "execute_result"
    }
   ],
   "source": [
    "M=Variable(\"Messiah\",[True,False],parents=[T])\n",
    "M.set_cpt([0.25,0.75,0,1])\n",
    "M.cpt"
   ]
  },
  {
   "cell_type": "markdown",
   "id": "a9a0e95a-4247-4fea-8cc3-961baa50be68",
   "metadata": {},
   "source": [
    "> Therefore, the prior probability of a Messiah p(M|K) is 12.5%\n",
    "\n",
    "This is sloppy.  He should have P(T|K)=0.5, P(M|K,T)=0.25, etc..."
   ]
  },
  {
   "cell_type": "code",
   "execution_count": 4,
   "id": "b5d73fbb-78eb-409c-b621-502107ee8048",
   "metadata": {},
   "outputs": [],
   "source": [
    "net=Network([T,M])"
   ]
  },
  {
   "cell_type": "code",
   "execution_count": 5,
   "id": "e8317537-4e5b-4379-9f0c-41a7303effe1",
   "metadata": {},
   "outputs": [
    {
     "data": {
      "text/plain": [
       " Messiah       p      \n",
       " =======       =      \n",
       "   True     0.125000  \n",
       "  False     0.875000  "
      ]
     },
     "execution_count": 5,
     "metadata": {},
     "output_type": "execute_result"
    }
   ],
   "source": [
    "net.P(\"Messiah\")"
   ]
  },
  {
   "cell_type": "markdown",
   "id": "d3eeb40b-a86d-485e-989d-5c42a35dd805",
   "metadata": {},
   "source": [
    "Need to marginalize over the $T$, like:\n",
    "\n",
    "\\begin{aligned}\n",
    "P(M)&=P(M|T)P(T) + P(M|\\sim\\! T)P(\\sim\\! T) \\\\\n",
    "&=0.25 \\cdot 0.5 + 0 \\cdot 0.5 \\\\\n",
    "&=0.125\n",
    "\\end{aligned}"
   ]
  },
  {
   "cell_type": "markdown",
   "id": "3813d4a0-9553-49aa-b6e4-b56d35e4ca7e",
   "metadata": {},
   "source": [
    "> The prior probability of a resurrection given our background knowledge p(R|K) is 0.03 (3%):\n",
    ">\n",
    "> - p(R|M&K) — probability of a resurrection if there is a Messiah multiplied (0.25) by\n",
    "> - p(M|T) — probability of a Messiah if there is a God (0.25) multiplied by\n",
    "> - p(T) — probability of God’s existence (0.5)\n",
    "\n",
    "again, sloppy"
   ]
  },
  {
   "cell_type": "code",
   "execution_count": 6,
   "id": "7bb4032a-97e0-4f61-97de-39c4adf15275",
   "metadata": {},
   "outputs": [
    {
     "data": {
      "text/plain": [
       " Messiah   Resurrection     p      \n",
       " =======   ============     =      \n",
       "   True       True     0.250000  \n",
       "   True      False     0.750000  \n",
       "  False       True     0.000000  \n",
       "  False      False     1.000000  "
      ]
     },
     "execution_count": 6,
     "metadata": {},
     "output_type": "execute_result"
    }
   ],
   "source": [
    "R=Variable(\"Resurrection\",[True,False],parents=[M])\n",
    "R.set_cpt([0.25,0.75,0,1])\n",
    "R.cpt"
   ]
  },
  {
   "cell_type": "code",
   "execution_count": 7,
   "id": "56aa7614-df9d-4b06-8bf2-0346c4bc7450",
   "metadata": {},
   "outputs": [],
   "source": [
    "net=Network([T,M,R])"
   ]
  },
  {
   "cell_type": "code",
   "execution_count": 8,
   "id": "b8bfdf48-33ee-4515-ad5f-db958a13f29a",
   "metadata": {},
   "outputs": [
    {
     "data": {
      "text/plain": [
       "Resurrection     p      \n",
       "============     =      \n",
       "   True     0.031250  \n",
       "  False     0.968750  "
      ]
     },
     "execution_count": 8,
     "metadata": {},
     "output_type": "execute_result"
    }
   ],
   "source": [
    "net.P(\"Resurrection\")"
   ]
  },
  {
   "cell_type": "code",
   "execution_count": 9,
   "id": "6ca27ea5-66d6-414c-aa06-b3a773f25a22",
   "metadata": {},
   "outputs": [
    {
     "data": {
      "text/plain": [
       " Messiah   EvidenceM      p      \n",
       " =======   =========      =      \n",
       "   True       True     0.100000  \n",
       "   True      False     0.900000  \n",
       "  False       True     0.001000  \n",
       "  False      False     0.999000  "
      ]
     },
     "execution_count": 9,
     "metadata": {},
     "output_type": "execute_result"
    }
   ],
   "source": [
    "EM=Variable(\"EvidenceM\",[True,False],parents=[M])\n",
    "EM.set_cpt([0.1,0.9,0.001,.999])\n",
    "EM.cpt"
   ]
  },
  {
   "cell_type": "code",
   "execution_count": 10,
   "id": "13728a56-22d4-4fd8-a099-0e6b577c8d40",
   "metadata": {},
   "outputs": [],
   "source": [
    "net=Network([T,M,R,EM])"
   ]
  },
  {
   "cell_type": "code",
   "execution_count": 11,
   "id": "3b9c10fc-58d2-4e11-a9a4-b759131dd2bc",
   "metadata": {},
   "outputs": [
    {
     "data": {
      "text/plain": [
       " Messiah   EvidenceM      p      \n",
       " =======   =========      =      \n",
       "   True       True     0.012500  \n",
       "   True      False     0.112500  \n",
       "  False       True     0.000875  \n",
       "  False      False     0.874125  "
      ]
     },
     "execution_count": 11,
     "metadata": {},
     "output_type": "execute_result"
    }
   ],
   "source": [
    "net.P(\"EvidenceM and Messiah\")"
   ]
  },
  {
   "cell_type": "code",
   "execution_count": 12,
   "id": "fedd9e08-0d50-4afc-a6eb-ef474c96e23d",
   "metadata": {},
   "outputs": [
    {
     "data": {
      "text/plain": [
       "Resurrection EvidenceR      p      \n",
       "============ =========      =      \n",
       "   True       True     0.100000  \n",
       "   True      False     0.900000  \n",
       "  False       True     0.001000  \n",
       "  False      False     0.999000  "
      ]
     },
     "execution_count": 12,
     "metadata": {},
     "output_type": "execute_result"
    }
   ],
   "source": [
    "ER=Variable(\"EvidenceR\",[True,False],parents=[R])\n",
    "ER.set_cpt([0.1,0.9,0.001,.999])\n",
    "ER.cpt"
   ]
  },
  {
   "cell_type": "code",
   "execution_count": 13,
   "id": "17966ca6-444a-4714-b1d7-e653a295ae77",
   "metadata": {},
   "outputs": [],
   "source": [
    "net=Network([T,M,R,EM,ER])"
   ]
  },
  {
   "cell_type": "code",
   "execution_count": 14,
   "id": "59e7412a-9104-4fc6-8a1c-b2483849fb6a",
   "metadata": {},
   "outputs": [
    {
     "data": {
      "text/plain": [
       "P(Theism,Messiah,Resurrection,EvidenceM,EvidenceR)=P(Theism)P(Messiah|Theism)P(Resurrection|Messiah)P(EvidenceM|Messiah)P(EvidenceR|Resurrection)\n",
       "\n",
       "P(Theism):\n",
       "\n",
       "  Theism       p      \n",
       "  ======       =      \n",
       "   True     0.500000  \n",
       "  False     0.500000  \n",
       "============\n",
       "\n",
       "P(Messiah|Theism):\n",
       "\n",
       "  Theism    Messiah       p      \n",
       "  ======    =======       =      \n",
       "   True       True     0.250000  \n",
       "   True      False     0.750000  \n",
       "  False       True     0.000000  \n",
       "  False      False     1.000000  \n",
       "============\n",
       "\n",
       "P(Resurrection|Messiah):\n",
       "\n",
       " Messiah   Resurrection     p      \n",
       " =======   ============     =      \n",
       "   True       True     0.250000  \n",
       "   True      False     0.750000  \n",
       "  False       True     0.000000  \n",
       "  False      False     1.000000  \n",
       "============\n",
       "\n",
       "P(EvidenceM|Messiah):\n",
       "\n",
       " Messiah   EvidenceM      p      \n",
       " =======   =========      =      \n",
       "   True       True     0.100000  \n",
       "   True      False     0.900000  \n",
       "  False       True     0.001000  \n",
       "  False      False     0.999000  \n",
       "============\n",
       "\n",
       "P(EvidenceR|Resurrection):\n",
       "\n",
       "Resurrection EvidenceR      p      \n",
       "============ =========      =      \n",
       "   True       True     0.100000  \n",
       "   True      False     0.900000  \n",
       "  False       True     0.001000  \n",
       "  False      False     0.999000  \n",
       "============\n"
      ]
     },
     "execution_count": 14,
     "metadata": {},
     "output_type": "execute_result"
    }
   ],
   "source": [
    "net"
   ]
  },
  {
   "cell_type": "code",
   "execution_count": 15,
   "id": "ded3aee2-7c71-42c3-a410-3712e5da80bc",
   "metadata": {},
   "outputs": [
    {
     "data": {
      "text/plain": [
       "Resurrection     p      \n",
       "============     =      \n",
       "   True     0.031250  \n",
       "  False     0.968750  "
      ]
     },
     "execution_count": 15,
     "metadata": {},
     "output_type": "execute_result"
    }
   ],
   "source": [
    "net.P(\"Resurrection\")"
   ]
  },
  {
   "cell_type": "code",
   "execution_count": 19,
   "id": "0fdc6ac2-4d48-438f-8354-0d8714179db1",
   "metadata": {},
   "outputs": [
    {
     "data": {
      "text/plain": [
       "Resurrection     p      \n",
       "============     =      \n",
       "   True     0.968242  \n",
       "  False     0.031758  "
      ]
     },
     "execution_count": 19,
     "metadata": {},
     "output_type": "execute_result"
    }
   ],
   "source": [
    "net.P(\"Resurrection|EvidenceR and EvidenceM\")"
   ]
  },
  {
   "cell_type": "code",
   "execution_count": 21,
   "id": "c3928a1c-ba0c-4c64-a516-061553e06a29",
   "metadata": {},
   "outputs": [
    {
     "data": {
      "text/plain": [
       "  Theism       p      \n",
       "  ======       =      \n",
       "   True     0.998451  \n",
       "  False     0.001549  "
      ]
     },
     "execution_count": 21,
     "metadata": {},
     "output_type": "execute_result"
    }
   ],
   "source": [
    "net.P(\"Theism|EvidenceR and EvidenceM\")"
   ]
  },
  {
   "cell_type": "code",
   "execution_count": 22,
   "id": "42cd19b7-0ffc-4a6e-abbb-25128a16215a",
   "metadata": {},
   "outputs": [
    {
     "data": {
      "text/plain": [
       " Messiah       p      \n",
       " =======       =      \n",
       "   True     0.997289  \n",
       "  False     0.002711  "
      ]
     },
     "execution_count": 22,
     "metadata": {},
     "output_type": "execute_result"
    }
   ],
   "source": [
    "net.P(\"Messiah|EvidenceR and EvidenceM\")"
   ]
  },
  {
   "cell_type": "code",
   "execution_count": null,
   "id": "68bdcf18-8f5b-4f5e-9b35-7d65e079b723",
   "metadata": {},
   "outputs": [],
   "source": []
  }
 ],
 "metadata": {
  "kernelspec": {
   "display_name": "Python 3 (ipykernel)",
   "language": "python",
   "name": "python3"
  },
  "language_info": {
   "codemirror_mode": {
    "name": "ipython",
    "version": 3
   },
   "file_extension": ".py",
   "mimetype": "text/x-python",
   "name": "python",
   "nbconvert_exporter": "python",
   "pygments_lexer": "ipython3",
   "version": "3.9.13"
  }
 },
 "nbformat": 4,
 "nbformat_minor": 5
}
