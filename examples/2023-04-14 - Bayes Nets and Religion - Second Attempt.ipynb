{
 "cells": [
  {
   "cell_type": "code",
   "execution_count": 25,
   "id": "5e665f0c-4b27-469d-8ea6-c73a0465adcc",
   "metadata": {},
   "outputs": [],
   "source": [
    "import sorobn as hh\n",
    "import pandas as pd"
   ]
  },
  {
   "cell_type": "markdown",
   "id": "add334d9-3e91-4171-a47f-ba62177210fb",
   "metadata": {},
   "source": [
    "https://github.com/MaxHalford/sorobn#usage"
   ]
  },
  {
   "cell_type": "code",
   "execution_count": 26,
   "id": "efe44d47-4081-411b-aadc-b55ceb3e0c4b",
   "metadata": {},
   "outputs": [],
   "source": [
    "bn = hh.BayesNet(\n",
    "     ('Theism', 'Messiah'),\n",
    "     ('Messiah', 'Evidence'),\n",
    ")"
   ]
  },
  {
   "cell_type": "code",
   "execution_count": 27,
   "id": "6cd7f61c-83e0-4049-9510-4181a5cd67c1",
   "metadata": {},
   "outputs": [],
   "source": [
    "bn.P['Theism'] = pd.Series({False: 0.5, True: 0.5})"
   ]
  },
  {
   "cell_type": "code",
   "execution_count": 28,
   "id": "e8bd0576-0961-4af4-82bc-5a67b2aaf3b1",
   "metadata": {},
   "outputs": [],
   "source": [
    "bn.P['Messiah'] = pd.Series({\n",
    "    (True, True): .25,   # P(M|T)\n",
    "    (True, False): .75,  # P(~M|T)\n",
    "    (False, True): 0,  # not specified  # P(M|~T)\n",
    "    (False, False): 1,  # not specified # P(~M|~T)\n",
    "})"
   ]
  },
  {
   "cell_type": "code",
   "execution_count": 29,
   "id": "5331dcb7-5d67-4600-8016-d59d7df52cd1",
   "metadata": {},
   "outputs": [],
   "source": [
    "bn.P['Evidence'] = pd.Series({\n",
    "    (True, True): 0.1,\n",
    "    (True, False): .9,\n",
    "    (False, True): .001,  # P(E|~M)\n",
    "    (False, False): .999, \n",
    "})"
   ]
  },
  {
   "cell_type": "code",
   "execution_count": 30,
   "id": "b4f31b97-c325-4c53-94e6-8ac5e3d877c0",
   "metadata": {},
   "outputs": [],
   "source": [
    "bn.prepare()"
   ]
  },
  {
   "cell_type": "code",
   "execution_count": 31,
   "id": "ac6a6620-0a6e-476c-b78a-c6f3365d2071",
   "metadata": {},
   "outputs": [
    {
     "data": {
      "text/plain": [
       "Messiah\n",
       "False    0.875\n",
       "True     0.125\n",
       "Name: P(Messiah), dtype: float64"
      ]
     },
     "execution_count": 31,
     "metadata": {},
     "output_type": "execute_result"
    }
   ],
   "source": [
    "bn.query('Messiah',event={})"
   ]
  },
  {
   "cell_type": "code",
   "execution_count": 32,
   "id": "ae387e0b-43fc-44ab-aa36-de69f32d0a9d",
   "metadata": {},
   "outputs": [
    {
     "data": {
      "text/plain": [
       "Theism\n",
       "False    0.037383\n",
       "True     0.962617\n",
       "Name: P(Theism), dtype: float64"
      ]
     },
     "execution_count": 32,
     "metadata": {},
     "output_type": "execute_result"
    }
   ],
   "source": [
    "bn.query('Theism',event={'Evidence': True})"
   ]
  },
  {
   "cell_type": "code",
   "execution_count": 33,
   "id": "50ae4f6b-a4a5-4e85-b913-30ecf962db8e",
   "metadata": {},
   "outputs": [
    {
     "data": {
      "text/plain": [
       "Messiah\n",
       "False    0.065421\n",
       "True     0.934579\n",
       "Name: P(Messiah), dtype: float64"
      ]
     },
     "execution_count": 33,
     "metadata": {},
     "output_type": "execute_result"
    }
   ],
   "source": [
    "bn.query('Messiah',event={'Evidence': True})"
   ]
  },
  {
   "cell_type": "markdown",
   "id": "5dece3c9-96e9-44e2-a770-3b89d416bfe0",
   "metadata": {},
   "source": [
    "https://medium.com/@nick-meader/a-bayesian-argument-for-the-resurrection-part-i-77a230293fc"
   ]
  },
  {
   "cell_type": "code",
   "execution_count": null,
   "id": "0c57c775-c0ef-4f3a-995c-2c135192b1da",
   "metadata": {},
   "outputs": [],
   "source": []
  }
 ],
 "metadata": {
  "kernelspec": {
   "display_name": "Python 3 (ipykernel)",
   "language": "python",
   "name": "python3"
  },
  "language_info": {
   "codemirror_mode": {
    "name": "ipython",
    "version": 3
   },
   "file_extension": ".py",
   "mimetype": "text/x-python",
   "name": "python",
   "nbconvert_exporter": "python",
   "pygments_lexer": "ipython3",
   "version": "3.9.13"
  }
 },
 "nbformat": 4,
 "nbformat_minor": 5
}
