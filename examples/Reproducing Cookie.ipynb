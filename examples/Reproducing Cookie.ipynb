{
 "cells": [
  {
   "cell_type": "code",
   "execution_count": 1,
   "metadata": {
    "collapsed": false,
    "jupyter": {
     "outputs_hidden": false
    }
   },
   "outputs": [],
   "source": [
    "from bayes_net import *"
   ]
  },
  {
   "cell_type": "code",
   "execution_count": 6,
   "metadata": {
    "collapsed": false,
    "jupyter": {
     "outputs_hidden": false
    }
   },
   "outputs": [
    {
     "name": "stdout",
     "output_type": "stream",
     "text": [
      "Start\tp\n",
      "=====\t=\n",
      "True\t0.009800000000\n",
      "False\t0.990200000000\n",
      "\n"
     ]
    }
   ],
   "source": [
    "fuel=Variable(\"Fuel\",[True,False])\n",
    "spark=Variable(\"Spark\",[True,False])\n",
    "gauge=Variable(\"Gauge\",['f','h','e'],parents=[fuel])\n",
    "start=Variable(\"Start\",[True,False],parents=[fuel,spark])\n",
    "    \n",
    "fuel.set_cpt([.98,.02])\n",
    "spark.set_cpt([.96,.04])\n",
    "gauge.set_cpt([.39,.60, .01,.001,.001,.998])\n",
    "start.set_cpt([.99,.01,.01,.99,0,1,0,1])\n",
    "\n",
    "net=Network([fuel,spark,gauge,start])\n",
    "\n",
    "\n",
    "print (net.P(\"Start|Spark=False\"))\n"
   ]
  },
  {
   "cell_type": "code",
   "execution_count": 7,
   "metadata": {
    "collapsed": false,
    "jupyter": {
     "outputs_hidden": false
    }
   },
   "outputs": [],
   "source": [
    "bowl=Variable(\"Bowl\",[\"A\",\"B\"])\n",
    "cookie=Variable(\"Cookie\",[\"Chocolate\",\"Vanilla\"],parents=[bowl])"
   ]
  },
  {
   "cell_type": "code",
   "execution_count": 8,
   "metadata": {
    "collapsed": false,
    "jupyter": {
     "outputs_hidden": false
    }
   },
   "outputs": [
    {
     "name": "stdout",
     "output_type": "stream",
     "text": [
      "Cookie with values ['Chocolate', 'Vanilla']\n"
     ]
    }
   ],
   "source": [
    "bowl.set_cpt([.5,.5]) # equal priors on the bowls\n",
    "cookie.set_cpt([.25,.75,.5,.5])\n",
    "print (cookie)"
   ]
  },
  {
   "cell_type": "code",
   "execution_count": 9,
   "metadata": {
    "collapsed": false,
    "jupyter": {
     "outputs_hidden": false
    }
   },
   "outputs": [
    {
     "data": {
      "text/plain": [
       "Bowl\tCookie\tp\n",
       "====\t======\t=\n",
       "A\tChocolate\t0.250000000000\n",
       "A\tVanilla\t0.750000000000\n",
       "B\tChocolate\t0.500000000000\n",
       "B\tVanilla\t0.500000000000"
      ]
     },
     "execution_count": 9,
     "metadata": {},
     "output_type": "execute_result"
    }
   ],
   "source": [
    "cookie.cpt"
   ]
  },
  {
   "cell_type": "code",
   "execution_count": 10,
   "metadata": {
    "collapsed": false,
    "jupyter": {
     "outputs_hidden": false
    }
   },
   "outputs": [],
   "source": [
    "net=Network([bowl,cookie])"
   ]
  },
  {
   "cell_type": "code",
   "execution_count": 11,
   "metadata": {
    "collapsed": false,
    "jupyter": {
     "outputs_hidden": false
    }
   },
   "outputs": [
    {
     "data": {
      "text/plain": [
       "0.75"
      ]
     },
     "execution_count": 11,
     "metadata": {},
     "output_type": "execute_result"
    }
   ],
   "source": [
    "net.P(\"Cookie=Vanilla|Bowl=A\")"
   ]
  },
  {
   "cell_type": "code",
   "execution_count": 12,
   "metadata": {
    "collapsed": false,
    "jupyter": {
     "outputs_hidden": false
    }
   },
   "outputs": [
    {
     "data": {
      "text/plain": [
       "0.6"
      ]
     },
     "execution_count": 12,
     "metadata": {},
     "output_type": "execute_result"
    }
   ],
   "source": [
    "net.P(\"Bowl=A|Cookie=Vanilla\")"
   ]
  },
  {
   "cell_type": "code",
   "execution_count": 13,
   "metadata": {
    "collapsed": false,
    "jupyter": {
     "outputs_hidden": false
    }
   },
   "outputs": [
    {
     "data": {
      "text/plain": [
       "Bowl\tp\n",
       "====\t=\n",
       "A\t0.500000000000\n",
       "B\t0.500000000000"
      ]
     },
     "execution_count": 13,
     "metadata": {},
     "output_type": "execute_result"
    }
   ],
   "source": [
    "bowl.cpt"
   ]
  },
  {
   "cell_type": "code",
   "execution_count": 14,
   "metadata": {
    "collapsed": false,
    "jupyter": {
     "outputs_hidden": false
    }
   },
   "outputs": [
    {
     "data": {
      "text/plain": [
       "Bowl\tCookie\tp\n",
       "====\t======\t=\n",
       "A\tChocolate\t0.250000000000\n",
       "A\tVanilla\t0.750000000000\n",
       "B\tChocolate\t0.500000000000\n",
       "B\tVanilla\t0.500000000000"
      ]
     },
     "execution_count": 14,
     "metadata": {},
     "output_type": "execute_result"
    }
   ],
   "source": [
    "cookie.cpt"
   ]
  },
  {
   "cell_type": "code",
   "execution_count": 15,
   "metadata": {
    "collapsed": false,
    "jupyter": {
     "outputs_hidden": false
    }
   },
   "outputs": [
    {
     "name": "stdout",
     "output_type": "stream",
     "text": [
      "Bowl\tCookie\tp\n",
      "====\t======\t=\n",
      "A\tChocolate\t0.125000000000\n",
      "A\tVanilla\t0.375000000000\n",
      "B\tChocolate\t0.250000000000\n",
      "B\tVanilla\t0.250000000000\n",
      "\n"
     ]
    }
   ],
   "source": [
    "new_cpt=bowl.cpt*cookie.cpt\n",
    "print (new_cpt)"
   ]
  },
  {
   "cell_type": "code",
   "execution_count": 16,
   "metadata": {
    "collapsed": false,
    "jupyter": {
     "outputs_hidden": false
    }
   },
   "outputs": [
    {
     "data": {
      "text/plain": [
       "Cookie\tp\n",
       "======\t=\n",
       "Chocolate\t0.125000000000\n",
       "Vanilla\t0.375000000000"
      ]
     },
     "execution_count": 16,
     "metadata": {},
     "output_type": "execute_result"
    }
   ],
   "source": [
    "new_cpt.condition(bowl,'A')"
   ]
  },
  {
   "cell_type": "code",
   "execution_count": 17,
   "metadata": {
    "collapsed": false,
    "jupyter": {
     "outputs_hidden": false
    }
   },
   "outputs": [
    {
     "data": {
      "text/plain": [
       "Cookie\tp\n",
       "======\t=\n",
       "Chocolate\t0.375000000000\n",
       "Vanilla\t0.625000000000"
      ]
     },
     "execution_count": 17,
     "metadata": {},
     "output_type": "execute_result"
    }
   ],
   "source": [
    "new_cpt.marginalize(bowl)"
   ]
  },
  {
   "cell_type": "code",
   "execution_count": 18,
   "metadata": {
    "collapsed": false,
    "jupyter": {
     "outputs_hidden": false
    }
   },
   "outputs": [
    {
     "data": {
      "text/plain": [
       "Bowl\tp\n",
       "====\t=\n",
       "A\t0.500000000000\n",
       "B\t0.500000000000"
      ]
     },
     "execution_count": 18,
     "metadata": {},
     "output_type": "execute_result"
    }
   ],
   "source": [
    "new_cpt.marginalize(cookie)"
   ]
  },
  {
   "cell_type": "code",
   "execution_count": null,
   "metadata": {
    "collapsed": false,
    "jupyter": {
     "outputs_hidden": false
    }
   },
   "outputs": [],
   "source": []
  }
 ],
 "metadata": {
  "kernelspec": {
   "display_name": "Python 3",
   "language": "python",
   "name": "python3"
  },
  "language_info": {
   "codemirror_mode": {
    "name": "ipython",
    "version": 3
   },
   "file_extension": ".py",
   "mimetype": "text/x-python",
   "name": "python",
   "nbconvert_exporter": "python",
   "pygments_lexer": "ipython3",
   "version": "3.7.6"
  }
 },
 "nbformat": 4,
 "nbformat_minor": 4
}
