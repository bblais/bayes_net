{
 "cells": [
  {
   "cell_type": "code",
   "execution_count": 10,
   "id": "cbf79420-03ed-4b3a-9c54-7ec81b6a2fdd",
   "metadata": {},
   "outputs": [],
   "source": [
    "from bayes_net import *"
   ]
  },
  {
   "cell_type": "code",
   "execution_count": null,
   "id": "16304bfa-6f5c-4610-a836-5db61c595e5d",
   "metadata": {},
   "outputs": [],
   "source": []
  },
  {
   "cell_type": "code",
   "execution_count": 12,
   "id": "4784ff60-bb91-467e-8267-dbde7cc32645",
   "metadata": {},
   "outputs": [
    {
     "data": {
      "text/plain": [
       "P(Historical,e2,e3,e4,e5)=P(Historical)P(e2|Historical,e3)P(e3)P(e4|Historical,e2,e3)P(e5|Historical,e3)\n",
       "\n",
       "P(Historical):\n",
       "\n",
       "None============\n",
       "\n",
       "P(e2|Historical,e3):\n",
       "\n",
       "None============\n",
       "\n",
       "P(e3):\n",
       "\n",
       "None============\n",
       "\n",
       "P(e4|Historical,e2,e3):\n",
       "\n",
       "None============\n",
       "\n",
       "P(e5|Historical,e3):\n",
       "\n",
       "None============\n"
      ]
     },
     "execution_count": 12,
     "metadata": {},
     "output_type": "execute_result"
    }
   ],
   "source": [
    "H=Variable(\"Historical\",[True,False])\n",
    "e3=Variable(\"e3\",[True,False])\n",
    "\n",
    "e2=Variable(\"e2\",[True,False],parents=[H,e3])\n",
    "\n",
    "e4=Variable(\"e4\",[True,False],parents=[H,e2,e3])\n",
    "e5=Variable(\"e5\",[True,False],parents=[H,e3])\n",
    "net=Network([H,e2,e3,e4,e5])\n",
    "net"
   ]
  },
  {
   "cell_type": "code",
   "execution_count": null,
   "id": "8a14f0e8-835f-4ac9-b4d3-4e58cfd569e0",
   "metadata": {},
   "outputs": [],
   "source": []
  },
  {
   "cell_type": "code",
   "execution_count": null,
   "id": "824adb16-2450-4a8b-b7c1-e78eba79ae39",
   "metadata": {},
   "outputs": [],
   "source": []
  },
  {
   "cell_type": "code",
   "execution_count": null,
   "id": "2fd38a15-f887-47ee-b6f8-e13db27dc3d9",
   "metadata": {},
   "outputs": [],
   "source": []
  },
  {
   "cell_type": "code",
   "execution_count": 2,
   "id": "e7d941a1-072a-45aa-a269-2c5eb1680419",
   "metadata": {},
   "outputs": [
    {
     "name": "stdout",
     "output_type": "stream",
     "text": [
      "Historical     p      \n",
      "==========     =      \n",
      "   True     0.500000  \n",
      "  False     0.500000  \n",
      "\n"
     ]
    }
   ],
   "source": [
    "H=Variable(\"Historical\",[True,False])\n",
    "H.set_cpt([0.5,0.5])\n",
    "print(H.cpt)"
   ]
  },
  {
   "cell_type": "code",
   "execution_count": 3,
   "id": "b4ad5747-5b77-49fd-bc8e-25ee70cb75e7",
   "metadata": {},
   "outputs": [
    {
     "name": "stdout",
     "output_type": "stream",
     "text": [
      "After_9th      p      \n",
      "=========      =      \n",
      "   True     0.500000  \n",
      "  False     0.500000  \n",
      "\n"
     ]
    }
   ],
   "source": [
    "e3=Variable(\"After_9th\",[True,False])\n",
    "e3.set_cpt([0.5,0.5])\n",
    "print(e3.cpt)"
   ]
  },
  {
   "cell_type": "code",
   "execution_count": 4,
   "id": "ecc58eb4-8c41-4cb4-b1d3-70f8a9ccd554",
   "metadata": {},
   "outputs": [],
   "source": [
    "def LS(h,N):\n",
    "    return (h+1)/(N+2)"
   ]
  },
  {
   "cell_type": "code",
   "execution_count": 5,
   "id": "af9552b2-2816-48a4-82fa-95da02a6fc30",
   "metadata": {},
   "outputs": [],
   "source": [
    "N_hb,N_ha,N_mb,N_ma=(0, 26, 13, 1)\n",
    "N_h=N_hb+N_ha\n",
    "N_m=N_mb+N_ma\n",
    "N=N_h+N_m"
   ]
  },
  {
   "cell_type": "code",
   "execution_count": 6,
   "id": "fe83408b-10e8-4982-ab6c-e36e62431896",
   "metadata": {},
   "outputs": [
    {
     "name": "stdout",
     "output_type": "stream",
     "text": [
      "Historical After_9th  Rank_Raglan     p      \n",
      "========== =========  ===========     =      \n",
      "   True       True       True     0.619898  \n",
      "   True       True      False     0.380102  \n",
      "   True      False       True     0.022959  \n",
      "   True      False      False     0.977041  \n",
      "  False       True       True     0.044643  \n",
      "  False       True      False     0.955357  \n",
      "  False      False       True     0.312500  \n",
      "  False      False      False     0.687500  \n",
      "\n"
     ]
    }
   ],
   "source": [
    "e2=Variable(\"Rank_Raglan\",[True,False],parents=[H,e3])\n",
    "e2.set_cpt([LS(N_ha,N_h)*LS(N_h,N),\n",
    "            1-LS(N_ha,N_h)*LS(N_h,N),\n",
    "            LS(N_hb,N_h)*LS(N_h,N),\n",
    "            1-LS(N_hb,N_h)*LS(N_h,N),\n",
    "            LS(N_ma,N_m)*LS(N_m,N),\n",
    "            1-LS(N_ma,N_m)*LS(N_m,N),\n",
    "            LS(N_mb,N_m)*LS(N_m,N),\n",
    "            1-LS(N_mb,N_m)*LS(N_m,N),\n",
    "           ])\n",
    "print(e2.cpt)"
   ]
  },
  {
   "cell_type": "code",
   "execution_count": 7,
   "id": "9a926c6b-fd70-444e-97b4-7d57dfd464f7",
   "metadata": {},
   "outputs": [
    {
     "data": {
      "text/plain": [
       "P(Historical,Rank_Raglan,After_9th)=P(Historical)P(Rank_Raglan|Historical,After_9th)P(After_9th)\n",
       "\n",
       "P(Historical):\n",
       "\n",
       "Historical     p      \n",
       "==========     =      \n",
       "   True     0.500000  \n",
       "  False     0.500000  \n",
       "============\n",
       "\n",
       "P(Rank_Raglan|Historical,After_9th):\n",
       "\n",
       "Historical After_9th  Rank_Raglan     p      \n",
       "========== =========  ===========     =      \n",
       "   True       True       True     0.619898  \n",
       "   True       True      False     0.380102  \n",
       "   True      False       True     0.022959  \n",
       "   True      False      False     0.977041  \n",
       "  False       True       True     0.044643  \n",
       "  False       True      False     0.955357  \n",
       "  False      False       True     0.312500  \n",
       "  False      False      False     0.687500  \n",
       "============\n",
       "\n",
       "P(After_9th):\n",
       "\n",
       "After_9th      p      \n",
       "=========      =      \n",
       "   True     0.500000  \n",
       "  False     0.500000  \n",
       "============\n"
      ]
     },
     "execution_count": 7,
     "metadata": {},
     "output_type": "execute_result"
    }
   ],
   "source": [
    "net=Network([H,e2,e3])\n",
    "net"
   ]
  },
  {
   "cell_type": "markdown",
   "id": "65f9cd1e-4be3-46f6-a48c-1d5f2a0f3594",
   "metadata": {},
   "source": [
    "## With and without the 9th century reference class"
   ]
  },
  {
   "cell_type": "code",
   "execution_count": 8,
   "id": "c3ace92d-df58-49de-a75e-85392d077cc1",
   "metadata": {},
   "outputs": [
    {
     "data": {
      "text/plain": [
       "Historical     p      \n",
       "==========     =      \n",
       "   True     0.932821  \n",
       "  False     0.067179  "
      ]
     },
     "execution_count": 8,
     "metadata": {},
     "output_type": "execute_result"
    }
   ],
   "source": [
    "net.P(\"Historical | After_9th=True and Rank_Raglan=True\")"
   ]
  },
  {
   "cell_type": "code",
   "execution_count": 9,
   "id": "68bcfff6-5624-4539-90f3-af9004ac96ab",
   "metadata": {},
   "outputs": [
    {
     "data": {
      "text/plain": [
       "Historical     p      \n",
       "==========     =      \n",
       "   True     0.642857  \n",
       "  False     0.357143  "
      ]
     },
     "execution_count": 9,
     "metadata": {},
     "output_type": "execute_result"
    }
   ],
   "source": [
    "net.P(\"Historical | Rank_Raglan=True\")"
   ]
  },
  {
   "cell_type": "markdown",
   "id": "ad8dab97-5c7d-4ab7-aed4-1b3e476a9c50",
   "metadata": {},
   "source": [
    "## Update with $e_4$ and $e_5$"
   ]
  },
  {
   "cell_type": "code",
   "execution_count": 10,
   "id": "978c8f9c-9661-448d-9a8a-2769ec7ae4b8",
   "metadata": {},
   "outputs": [],
   "source": [
    "N_hb,N_ha,N_mb,N_ma=(0, 17, 8, 1)\n",
    "N_h=N_hb+N_ha\n",
    "N_m=N_mb+N_ma\n",
    "N=N_h+N_m"
   ]
  },
  {
   "cell_type": "code",
   "execution_count": 11,
   "id": "467a810d-b317-448c-8c72-fbb20de5bde9",
   "metadata": {},
   "outputs": [
    {
     "name": "stdout",
     "output_type": "stream",
     "text": [
      "Historical After_9th   Founder       p      \n",
      "========== =========   =======       =      \n",
      "   True       True       True     0.450893  \n",
      "   True       True      False     0.549107  \n",
      "   True      False       True     0.049107  \n",
      "   True      False      False     0.950893  \n",
      "  False       True       True     0.049107  \n",
      "  False       True      False     0.950893  \n",
      "  False      False       True     0.450893  \n",
      "  False      False      False     0.549107  \n",
      "\n"
     ]
    }
   ],
   "source": [
    "e4=Variable(\"Founder\",[True,False],parents=[H,e3])\n",
    "e4.set_cpt([LS(N_ha,N_h)*LS(N_h,N),\n",
    "            1-LS(N_ha,N_h)*LS(N_h,N),\n",
    "            LS(N_hb,N_h)*LS(N_h,N),\n",
    "            1-LS(N_hb,N_h)*LS(N_h,N),\n",
    "            LS(N_ma,N_m)*LS(N_m,N),\n",
    "            1-LS(N_ma,N_m)*LS(N_m,N),\n",
    "            LS(N_mb,N_m)*LS(N_m,N),\n",
    "            1-LS(N_mb,N_m)*LS(N_m,N),\n",
    "           ])\n",
    "print(e4.cpt)"
   ]
  },
  {
   "cell_type": "code",
   "execution_count": 12,
   "id": "25d3ea36-09f1-4693-96ea-3f433e889252",
   "metadata": {},
   "outputs": [],
   "source": [
    "N_hb,N_ha,N_mb,N_ma=(0, 6, 0, 0)\n",
    "N_h=N_hb+N_ha\n",
    "N_m=N_mb+N_ma\n",
    "N=N_h+N_m"
   ]
  },
  {
   "cell_type": "code",
   "execution_count": 13,
   "id": "6747ed58-5a89-4fed-80c0-2b187f373d5f",
   "metadata": {},
   "outputs": [
    {
     "name": "stdout",
     "output_type": "stream",
     "text": [
      "Historical After_9th    Daniel       p      \n",
      "========== =========    ======       =      \n",
      "   True       True       True     0.765625  \n",
      "   True       True      False     0.234375  \n",
      "   True      False       True     0.109375  \n",
      "   True      False      False     0.890625  \n",
      "  False       True       True     0.062500  \n",
      "  False       True      False     0.937500  \n",
      "  False      False       True     0.062500  \n",
      "  False      False      False     0.937500  \n",
      "\n"
     ]
    }
   ],
   "source": [
    "e5=Variable(\"Daniel\",[True,False],parents=[H,e3])\n",
    "e5.set_cpt([LS(N_ha,N_h)*LS(N_h,N),\n",
    "            1-LS(N_ha,N_h)*LS(N_h,N),\n",
    "            LS(N_hb,N_h)*LS(N_h,N),\n",
    "            1-LS(N_hb,N_h)*LS(N_h,N),\n",
    "            LS(N_ma,N_m)*LS(N_m,N),\n",
    "            1-LS(N_ma,N_m)*LS(N_m,N),\n",
    "            LS(N_mb,N_m)*LS(N_m,N),\n",
    "            1-LS(N_mb,N_m)*LS(N_m,N),\n",
    "           ])\n",
    "print(e5.cpt)"
   ]
  },
  {
   "cell_type": "code",
   "execution_count": 14,
   "id": "c66110aa-09d0-41ea-b76f-3cead1ed3b17",
   "metadata": {},
   "outputs": [],
   "source": [
    "net=Network([H,e2,e3,e4,e5])"
   ]
  },
  {
   "cell_type": "code",
   "execution_count": 15,
   "id": "e8d0cf60-f38d-46ac-90ec-f653a5d37be9",
   "metadata": {},
   "outputs": [
    {
     "data": {
      "text/plain": [
       "Historical     p      \n",
       "==========     =      \n",
       "   True     0.642857  \n",
       "  False     0.357143  "
      ]
     },
     "execution_count": 15,
     "metadata": {},
     "output_type": "execute_result"
    }
   ],
   "source": [
    "net.P(\"Historical | Rank_Raglan=True\")"
   ]
  },
  {
   "cell_type": "code",
   "execution_count": 16,
   "id": "e33ba8c1-022c-4047-84f2-e01989b5f5ca",
   "metadata": {},
   "outputs": [
    {
     "data": {
      "text/plain": [
       "Historical     p      \n",
       "==========     =      \n",
       "   True     0.999360  \n",
       "  False     0.000640  "
      ]
     },
     "execution_count": 16,
     "metadata": {},
     "output_type": "execute_result"
    }
   ],
   "source": [
    "net.P(\"Historical | Rank_Raglan=True and Founder=True and Daniel=True and After_9th=True\")"
   ]
  },
  {
   "cell_type": "code",
   "execution_count": null,
   "id": "c560739d-ac9b-4aa7-a22f-71c04c670e76",
   "metadata": {},
   "outputs": [],
   "source": []
  },
  {
   "cell_type": "code",
   "execution_count": null,
   "id": "c39245ed-1761-492f-b87a-eceaf474b073",
   "metadata": {},
   "outputs": [],
   "source": []
  },
  {
   "cell_type": "code",
   "execution_count": null,
   "id": "a3060a5f-7dbe-4d0a-845f-f16b1e304550",
   "metadata": {},
   "outputs": [],
   "source": []
  }
 ],
 "metadata": {
  "kernelspec": {
   "display_name": "Python 3 (ipykernel)",
   "language": "python",
   "name": "python3"
  },
  "language_info": {
   "codemirror_mode": {
    "name": "ipython",
    "version": 3
   },
   "file_extension": ".py",
   "mimetype": "text/x-python",
   "name": "python",
   "nbconvert_exporter": "python",
   "pygments_lexer": "ipython3",
   "version": "3.11.5"
  }
 },
 "nbformat": 4,
 "nbformat_minor": 5
}
