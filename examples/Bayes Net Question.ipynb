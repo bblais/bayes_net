{
 "cells": [
  {
   "cell_type": "code",
   "execution_count": 1,
   "id": "e0045a1a",
   "metadata": {
    "collapsed": false,
    "jupyter": {
     "outputs_hidden": false
    }
   },
   "outputs": [],
   "source": [
    "from bayes_net import *"
   ]
  },
  {
   "cell_type": "markdown",
   "id": "d68204ee",
   "metadata": {},
   "source": [
    "http://stats.stackexchange.com/questions/79117/i-have-a-problem-in-bayesian-networks-get-pea\n",
    "\n",
    "<img width=800 src=\"http://i.stack.imgur.com/cGYpA.png\">"
   ]
  },
  {
   "cell_type": "code",
   "execution_count": 23,
   "id": "f452108b",
   "metadata": {
    "collapsed": false,
    "jupyter": {
     "outputs_hidden": false
    }
   },
   "outputs": [
    {
     "name": "stdout",
     "output_type": "stream",
     "text": [
      "A\tp\n",
      "=\t=\n",
      "True\t0.200000000000\n",
      "False\t0.800000000000\n",
      "\n",
      "B\tp\n",
      "=\t=\n",
      "True\t0.700000000000\n",
      "False\t0.300000000000\n",
      "\n",
      "B\tE\tp\n",
      "=\t=\t=\n",
      "True\tTrue\t0.100000000000\n",
      "True\tFalse\t0.900000000000\n",
      "False\tTrue\t0.900000000000\n",
      "False\tFalse\t0.100000000000\n",
      "\n"
     ]
    }
   ],
   "source": [
    "A=Variable(\"A\",[True,False])\n",
    "B=Variable(\"B\",[True,False])\n",
    "E=Variable(\"E\",[True,False],parents=[B])\n",
    "D=Variable(\"D\",[True,False],parents=[A,B])\n",
    "                                     \n",
    "A.set_cpt([0.2,0.8])\n",
    "B.set_cpt([0.7,0.3])\n",
    "print A.cpt\n",
    "print B.cpt\n",
    "E.set_cpt([0.1,0.9,0.9,0.1])\n",
    "print E.cpt"
   ]
  },
  {
   "cell_type": "markdown",
   "id": "d0bbc02e",
   "metadata": {},
   "source": [
    "<img width=500 src=\"http://i.stack.imgur.com/cGYpA.png\">"
   ]
  },
  {
   "cell_type": "code",
   "execution_count": 24,
   "id": "b3ecd8f0",
   "metadata": {
    "collapsed": false,
    "jupyter": {
     "outputs_hidden": false
    }
   },
   "outputs": [
    {
     "name": "stdout",
     "output_type": "stream",
     "text": [
      "A\tB\tD\tp\n",
      "=\t=\t=\t=\n",
      "True\tTrue\tTrue\t0.500000000000\n",
      "True\tTrue\tFalse\t0.500000000000\n",
      "True\tFalse\tTrue\t0.600000000000\n",
      "True\tFalse\tFalse\t0.400000000000\n",
      "False\tTrue\tTrue\t0.100000000000\n",
      "False\tTrue\tFalse\t0.900000000000\n",
      "False\tFalse\tTrue\t0.800000000000\n",
      "False\tFalse\tFalse\t0.200000000000\n",
      "\n"
     ]
    }
   ],
   "source": [
    "D.set_cpt([.5,.5,.6,.4,.1,.9,.8,.2])\n",
    "print D.cpt"
   ]
  },
  {
   "cell_type": "code",
   "execution_count": 25,
   "id": "4f6e0852",
   "metadata": {
    "collapsed": false,
    "jupyter": {
     "outputs_hidden": false
    }
   },
   "outputs": [],
   "source": [
    "net=Network([A,B,D,E])"
   ]
  },
  {
   "cell_type": "markdown",
   "id": "e9e8779b",
   "metadata": {},
   "source": [
    "weird that this gives this answer.  perhaps there is something I am missing"
   ]
  },
  {
   "cell_type": "code",
   "execution_count": 31,
   "id": "45cd1047",
   "metadata": {
    "collapsed": false,
    "jupyter": {
     "outputs_hidden": false
    }
   },
   "outputs": [
    {
     "data": {
      "text/plain": [
       "A\tB\tp\n",
       "=\t=\t=\n",
       "True\tTrue\t0.200000000000\n",
       "True\tFalse\t0.200000000000\n",
       "False\tTrue\t0.800000000000\n",
       "False\tFalse\t0.800000000000\n"
      ]
     },
     "execution_count": 31,
     "metadata": {},
     "output_type": "execute_result"
    }
   ],
   "source": [
    "net.P(\"A and B\")  # should be 0.24 for A=False and B=False"
   ]
  },
  {
   "cell_type": "code",
   "execution_count": 32,
   "id": "264df514",
   "metadata": {
    "collapsed": false,
    "jupyter": {
     "outputs_hidden": false
    }
   },
   "outputs": [
    {
     "data": {
      "text/plain": [
       "0.7999999999999999"
      ]
     },
     "execution_count": 32,
     "metadata": {},
     "output_type": "execute_result"
    }
   ],
   "source": [
    "net.P(\"A=False and B=False\")"
   ]
  },
  {
   "cell_type": "code",
   "execution_count": 34,
   "id": "ccb62c89",
   "metadata": {
    "collapsed": false,
    "jupyter": {
     "outputs_hidden": false
    }
   },
   "outputs": [
    {
     "data": {
      "text/plain": [
       "A\tB\tp\n",
       "=\t=\t=\n",
       "True\tTrue\t0.140000000000\n",
       "True\tFalse\t0.060000000000\n",
       "False\tTrue\t0.560000000000\n",
       "False\tFalse\t0.240000000000\n"
      ]
     },
     "execution_count": 34,
     "metadata": {},
     "output_type": "execute_result"
    }
   ],
   "source": [
    "A.cpt*B.cpt"
   ]
  },
  {
   "cell_type": "code",
   "execution_count": null,
   "id": "60a4af16",
   "metadata": {
    "collapsed": false,
    "jupyter": {
     "outputs_hidden": false
    }
   },
   "outputs": [],
   "source": []
  }
 ],
 "metadata": {
  "kernelspec": {
   "display_name": "Python 3 (ipykernel)",
   "language": "python",
   "name": "python3"
  },
  "language_info": {
   "codemirror_mode": {
    "name": "ipython",
    "version": 3
   },
   "file_extension": ".py",
   "mimetype": "text/x-python",
   "name": "python",
   "nbconvert_exporter": "python",
   "pygments_lexer": "ipython3",
   "version": "3.9.13"
  }
 },
 "nbformat": 4,
 "nbformat_minor": 5
}
