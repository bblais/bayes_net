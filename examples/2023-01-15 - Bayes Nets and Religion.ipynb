{
 "cells": [
  {
   "cell_type": "code",
   "execution_count": 1,
   "id": "bbf7e10b-8eaf-4bc5-b013-61b4325a2666",
   "metadata": {},
   "outputs": [],
   "source": [
    "from bayes_net import *"
   ]
  },
  {
   "cell_type": "code",
   "execution_count": 2,
   "id": "f260d80b-1ddf-4a18-9bd7-91be296a2623",
   "metadata": {},
   "outputs": [],
   "source": [
    "import numpy as np\n",
    "from numpy import sqrt"
   ]
  },
  {
   "cell_type": "markdown",
   "id": "0a2cba2b-a338-463d-b72d-1598cb860c0d",
   "metadata": {},
   "source": [
    "https://medium.com/interfaith-now/how-likely-is-it-that-jesus-is-the-messiah-part-iv-9a8bc820c801"
   ]
  },
  {
   "cell_type": "code",
   "execution_count": 3,
   "id": "98ff88e6-3c20-45b1-9ea1-a2cbc3a73085",
   "metadata": {},
   "outputs": [
    {
     "data": {
      "text/plain": [
       "  Theism       p      \n",
       "  ======       =      \n",
       "   True     0.500000  \n",
       "  False     0.500000  "
      ]
     },
     "execution_count": 3,
     "metadata": {},
     "output_type": "execute_result"
    }
   ],
   "source": [
    "T=Variable(\"Theism\",[True,False])\n",
    "T.set_cpt([0.5,0.5])\n",
    "T.cpt"
   ]
  },
  {
   "cell_type": "code",
   "execution_count": 4,
   "id": "2817dd6c-bf86-44b9-a450-f297ca7122f3",
   "metadata": {},
   "outputs": [
    {
     "data": {
      "text/plain": [
       "  Theism    Messiah       p      \n",
       "  ======    =======       =      \n",
       "   True       True     0.250000  \n",
       "   True      False     0.750000  \n",
       "  False       True     0.000000  \n",
       "  False      False     1.000000  "
      ]
     },
     "execution_count": 4,
     "metadata": {},
     "output_type": "execute_result"
    }
   ],
   "source": [
    "M=Variable(\"Messiah\",[True,False],parents=[T])\n",
    "M.set_cpt([0.25,0.75,0,1])\n",
    "M.cpt"
   ]
  },
  {
   "cell_type": "code",
   "execution_count": 5,
   "id": "7c34e45d-4e44-4bec-822f-a24428c3a27d",
   "metadata": {},
   "outputs": [
    {
     "data": {
      "text/plain": [
       " Messiah    Evidence      p      \n",
       " =======    ========      =      \n",
       "   True       True     0.100000  \n",
       "   True      False     0.900000  \n",
       "  False       True     0.001000  \n",
       "  False      False     0.999000  "
      ]
     },
     "execution_count": 5,
     "metadata": {},
     "output_type": "execute_result"
    }
   ],
   "source": [
    "E=Variable(\"Evidence\",[True,False],parents=[M])\n",
    "E.set_cpt([0.1,0.9,0.001,.999])\n",
    "E.cpt"
   ]
  },
  {
   "cell_type": "code",
   "execution_count": 6,
   "id": "f9700b19-3720-4c8a-aa25-75494277d51c",
   "metadata": {},
   "outputs": [],
   "source": [
    "net=Network([T,M,E])"
   ]
  },
  {
   "cell_type": "code",
   "execution_count": 7,
   "id": "02cc5c03-3e46-420c-9b9c-9a1864c6ad1f",
   "metadata": {},
   "outputs": [
    {
     "data": {
      "text/plain": [
       " Messiah       p      \n",
       " =======       =      \n",
       "   True     0.125000  \n",
       "  False     0.875000  "
      ]
     },
     "execution_count": 7,
     "metadata": {},
     "output_type": "execute_result"
    }
   ],
   "source": [
    "net.P(\"Messiah\")"
   ]
  },
  {
   "cell_type": "code",
   "execution_count": 8,
   "id": "bef906e9-ae73-486a-9220-f00de1982201",
   "metadata": {},
   "outputs": [
    {
     "data": {
      "text/plain": [
       "  Theism       p      \n",
       "  ======       =      \n",
       "   True     0.500000  \n",
       "  False     0.500000  "
      ]
     },
     "execution_count": 8,
     "metadata": {},
     "output_type": "execute_result"
    }
   ],
   "source": [
    "net.P(\"Theism\")"
   ]
  },
  {
   "cell_type": "code",
   "execution_count": 9,
   "id": "692a0311-c9f6-4ac0-bda7-6a2c81e53928",
   "metadata": {},
   "outputs": [
    {
     "data": {
      "text/plain": [
       "  Theism       p      \n",
       "  ======       =      \n",
       "   True     0.962617  \n",
       "  False     0.037383  "
      ]
     },
     "execution_count": 9,
     "metadata": {},
     "output_type": "execute_result"
    }
   ],
   "source": [
    "net.P(\"Theism | Evidence=True\")"
   ]
  },
  {
   "cell_type": "code",
   "execution_count": 10,
   "id": "336c1f47-5896-418c-86ea-e882cc5a22e5",
   "metadata": {},
   "outputs": [
    {
     "data": {
      "text/plain": [
       " Messiah       p      \n",
       " =======       =      \n",
       "   True     0.934579  \n",
       "  False     0.065421  "
      ]
     },
     "execution_count": 10,
     "metadata": {},
     "output_type": "execute_result"
    }
   ],
   "source": [
    "net.P(\"Messiah | Evidence=True\")"
   ]
  },
  {
   "cell_type": "code",
   "execution_count": 11,
   "id": "8acb225c-d794-4215-b141-4be73da77a79",
   "metadata": {},
   "outputs": [
    {
     "data": {
      "text/plain": [
       "P(Theism,Messiah,Evidence)=P(Theism)P(Messiah|Theism)P(Evidence|Messiah)"
      ]
     },
     "execution_count": 11,
     "metadata": {},
     "output_type": "execute_result"
    }
   ],
   "source": [
    "net"
   ]
  },
  {
   "cell_type": "markdown",
   "id": "01c84a03-7263-4935-b11f-6381bfaff976",
   "metadata": {},
   "source": [
    "## Number 2"
   ]
  },
  {
   "cell_type": "markdown",
   "id": "54107d60-2b25-4d48-bd20-13887b69874b",
   "metadata": {},
   "source": [
    "https://medium.com/@nick-meader/does-naturalism-or-christianity-better-account-for-the-universes-existence-4f44683a4c42"
   ]
  },
  {
   "cell_type": "code",
   "execution_count": 12,
   "id": "208ef5be-ae03-40e4-a262-6a44b1ade4ac",
   "metadata": {},
   "outputs": [
    {
     "data": {
      "text/plain": [
       "  Belief       p      \n",
       "  ======       =      \n",
       "Christianity  0.500000  \n",
       "Naturalism  0.500000  "
      ]
     },
     "execution_count": 12,
     "metadata": {},
     "output_type": "execute_result"
    }
   ],
   "source": [
    "B=Variable(\"Belief\",[\"Christianity\",\"Naturalism\"])\n",
    "B.set_cpt([0.5,0.5])\n",
    "B.cpt"
   ]
  },
  {
   "cell_type": "code",
   "execution_count": 16,
   "id": "43cfeb81-e251-48d6-8363-d6b88e2d4fab",
   "metadata": {},
   "outputs": [
    {
     "data": {
      "text/plain": [
       "  Belief   Existence      p      \n",
       "  ======   =========      =      \n",
       "Christianity    True     0.800000  \n",
       "Christianity   False     0.200000  \n",
       "Naturalism    True     0.400000  \n",
       "Naturalism   False     0.600000  "
      ]
     },
     "execution_count": 16,
     "metadata": {},
     "output_type": "execute_result"
    }
   ],
   "source": [
    "E=Variable(\"Existence\",[True,False],parents=[B])\n",
    "E.set_cpt([0.8,.2,.4,.6])\n",
    "E.cpt"
   ]
  },
  {
   "cell_type": "code",
   "execution_count": 17,
   "id": "75297f65-df55-4909-89d9-568ecff1abfe",
   "metadata": {},
   "outputs": [
    {
     "data": {
      "text/plain": [
       "  Finite       p      \n",
       "  ======       =      \n",
       "   True     0.800000  \n",
       "  False     0.200000  "
      ]
     },
     "execution_count": 17,
     "metadata": {},
     "output_type": "execute_result"
    }
   ],
   "source": [
    "F=Variable(\"Finite\",[True,False])\n",
    "F.set_cpt([0.8,0.2])\n",
    "F.cpt"
   ]
  },
  {
   "cell_type": "code",
   "execution_count": 19,
   "id": "f87b8d7f-3276-4c68-a8eb-4afce247267f",
   "metadata": {},
   "outputs": [
    {
     "data": {
      "text/plain": [
       "  Finite   Existence   External      p      \n",
       "  ======   =========   ========      =      \n",
       "   True       True       True     0.950000  \n",
       "   True       True      False     0.050000  \n",
       "   True      False       True     0.950000  \n",
       "   True      False      False     0.050000  \n",
       "  False       True       True     0.290000  \n",
       "  False       True      False     0.710000  \n",
       "  False      False       True     0.001000  \n",
       "  False      False      False     0.999000  "
      ]
     },
     "execution_count": 19,
     "metadata": {},
     "output_type": "execute_result"
    }
   ],
   "source": [
    "X=Variable(\"External\",[True,False],parents=[F,E])\n",
    "X.set_cpt([0.95,0.05,0.95,.05,0.29,0.71,0.001,0.999])\n",
    "X.cpt"
   ]
  },
  {
   "cell_type": "code",
   "execution_count": null,
   "id": "68e3403c-24cc-4127-8aa4-f9d61bf8f86e",
   "metadata": {},
   "outputs": [],
   "source": []
  }
 ],
 "metadata": {
  "kernelspec": {
   "display_name": "Python 3 (ipykernel)",
   "language": "python",
   "name": "python3"
  },
  "language_info": {
   "codemirror_mode": {
    "name": "ipython",
    "version": 3
   },
   "file_extension": ".py",
   "mimetype": "text/x-python",
   "name": "python",
   "nbconvert_exporter": "python",
   "pygments_lexer": "ipython3",
   "version": "3.9.13"
  }
 },
 "nbformat": 4,
 "nbformat_minor": 5
}
