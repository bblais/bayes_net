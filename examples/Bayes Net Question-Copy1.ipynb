{
 "cells": [
  {
   "cell_type": "code",
   "execution_count": 1,
   "id": "13dc52d2",
   "metadata": {
    "collapsed": false,
    "jupyter": {
     "outputs_hidden": false
    }
   },
   "outputs": [],
   "source": [
    "from bayes_net import *"
   ]
  },
  {
   "cell_type": "markdown",
   "id": "56e05ae1",
   "metadata": {},
   "source": [
    "http://stats.stackexchange.com/questions/79117/i-have-a-problem-in-bayesian-networks-get-pea\n",
    "\n",
    "<img width=800 src=\"http://i.stack.imgur.com/cGYpA.png\">"
   ]
  },
  {
   "cell_type": "code",
   "execution_count": 2,
   "id": "d3d9741b",
   "metadata": {
    "collapsed": false,
    "jupyter": {
     "outputs_hidden": false
    }
   },
   "outputs": [
    {
     "name": "stdout",
     "output_type": "stream",
     "text": [
      "A\tp\n",
      "=\t=\n",
      "True\t0.200000000000\n",
      "False\t0.800000000000\n",
      "\n",
      "B\tp\n",
      "=\t=\n",
      "True\t0.700000000000\n",
      "False\t0.300000000000\n",
      "\n",
      "B\tE\tp\n",
      "=\t=\t=\n",
      "True\tTrue\t0.100000000000\n",
      "True\tFalse\t0.900000000000\n",
      "False\tTrue\t0.900000000000\n",
      "False\tFalse\t0.100000000000\n",
      "\n"
     ]
    }
   ],
   "source": [
    "A=Variable(\"A\",[True,False])\n",
    "B=Variable(\"B\",[True,False])\n",
    "E=Variable(\"E\",[True,False],parents=[B])\n",
    "D=Variable(\"D\",[True,False],parents=[A,B])\n",
    "                                     \n",
    "A.set_cpt([0.2,0.8])\n",
    "B.set_cpt([0.7,0.3])\n",
    "print (A.cpt)\n",
    "print (B.cpt)\n",
    "E.set_cpt([0.1,0.9,0.9,0.1])\n",
    "print (E.cpt)"
   ]
  },
  {
   "cell_type": "markdown",
   "id": "b08cdf2f",
   "metadata": {},
   "source": [
    "<img width=500 src=\"http://i.stack.imgur.com/cGYpA.png\">"
   ]
  },
  {
   "cell_type": "code",
   "execution_count": 3,
   "id": "54bfee11",
   "metadata": {
    "collapsed": false,
    "jupyter": {
     "outputs_hidden": false
    }
   },
   "outputs": [
    {
     "name": "stdout",
     "output_type": "stream",
     "text": [
      "A\tB\tD\tp\n",
      "=\t=\t=\t=\n",
      "True\tTrue\tTrue\t0.500000000000\n",
      "True\tTrue\tFalse\t0.500000000000\n",
      "True\tFalse\tTrue\t0.600000000000\n",
      "True\tFalse\tFalse\t0.400000000000\n",
      "False\tTrue\tTrue\t0.100000000000\n",
      "False\tTrue\tFalse\t0.900000000000\n",
      "False\tFalse\tTrue\t0.800000000000\n",
      "False\tFalse\tFalse\t0.200000000000\n",
      "\n"
     ]
    }
   ],
   "source": [
    "D.set_cpt([.5,.5,.6,.4,.1,.9,.8,.2])\n",
    "print (D.cpt)"
   ]
  },
  {
   "cell_type": "code",
   "execution_count": 4,
   "id": "0cacfae4",
   "metadata": {
    "collapsed": false,
    "jupyter": {
     "outputs_hidden": false
    }
   },
   "outputs": [],
   "source": [
    "net=Network([A,B,D,E])"
   ]
  },
  {
   "cell_type": "markdown",
   "id": "c7f15f05",
   "metadata": {},
   "source": [
    "weird that this gives this answer.  perhaps there is something I am missing - fixed it 1/15/2023 -- it was the normalize step that didn't work"
   ]
  },
  {
   "cell_type": "code",
   "execution_count": 5,
   "id": "817bd411",
   "metadata": {
    "collapsed": false,
    "jupyter": {
     "outputs_hidden": false
    }
   },
   "outputs": [
    {
     "data": {
      "text/plain": [
       "0.24000000000000002"
      ]
     },
     "execution_count": 5,
     "metadata": {},
     "output_type": "execute_result"
    }
   ],
   "source": [
    "net.P(\"A=False and B=False\")  # should be 0.24 for A=False and B=False"
   ]
  },
  {
   "cell_type": "code",
   "execution_count": 6,
   "id": "d5794fd0",
   "metadata": {
    "collapsed": false,
    "jupyter": {
     "outputs_hidden": false
    }
   },
   "outputs": [
    {
     "data": {
      "text/plain": [
       "0.24000000000000002"
      ]
     },
     "execution_count": 6,
     "metadata": {},
     "output_type": "execute_result"
    }
   ],
   "source": [
    "net.P(\"A=False and B=False\")"
   ]
  },
  {
   "cell_type": "code",
   "execution_count": 7,
   "id": "2249e075",
   "metadata": {
    "collapsed": false,
    "jupyter": {
     "outputs_hidden": false
    }
   },
   "outputs": [
    {
     "data": {
      "text/plain": [
       "A\tB\tp\n",
       "=\t=\t=\n",
       "True\tTrue\t0.140000000000\n",
       "True\tFalse\t0.060000000000\n",
       "False\tTrue\t0.560000000000\n",
       "False\tFalse\t0.240000000000"
      ]
     },
     "execution_count": 7,
     "metadata": {},
     "output_type": "execute_result"
    }
   ],
   "source": [
    "A.cpt*B.cpt"
   ]
  },
  {
   "cell_type": "code",
   "execution_count": 8,
   "id": "15d0e5d2",
   "metadata": {
    "collapsed": false,
    "jupyter": {
     "outputs_hidden": false
    }
   },
   "outputs": [
    {
     "data": {
      "text/plain": [
       "A\tB\tp\n",
       "=\t=\t=\n",
       "True\tTrue\t0.140000000000\n",
       "True\tFalse\t0.060000000000\n",
       "False\tTrue\t0.560000000000\n",
       "False\tFalse\t0.240000000000"
      ]
     },
     "execution_count": 8,
     "metadata": {},
     "output_type": "execute_result"
    }
   ],
   "source": [
    "cpt2=A.cpt*B.cpt\n",
    "cpt2"
   ]
  },
  {
   "cell_type": "code",
   "execution_count": 9,
   "id": "f67376db-ee8b-4389-8267-46ba7d1e63b0",
   "metadata": {},
   "outputs": [
    {
     "data": {
      "text/plain": [
       "A\tB\tp\n",
       "=\t=\t=\n",
       "True\tTrue\t0.140000000000\n",
       "True\tFalse\t0.060000000000\n",
       "False\tTrue\t0.560000000000\n",
       "False\tFalse\t0.240000000000"
      ]
     },
     "execution_count": 9,
     "metadata": {},
     "output_type": "execute_result"
    }
   ],
   "source": [
    "cpt2.normalize()"
   ]
  },
  {
   "cell_type": "code",
   "execution_count": 10,
   "id": "a55dc709-5c44-4598-a3c0-4d208843c972",
   "metadata": {},
   "outputs": [
    {
     "data": {
      "text/plain": [
       "B\tp\n",
       "=\t=\n",
       "True\t0.560000000000\n",
       "False\t0.240000000000"
      ]
     },
     "execution_count": 10,
     "metadata": {},
     "output_type": "execute_result"
    }
   ],
   "source": [
    "cpt2.condition(\"A\",False)"
   ]
  },
  {
   "cell_type": "code",
   "execution_count": 11,
   "id": "66a9c405-3223-4604-97d9-222a76c08c73",
   "metadata": {},
   "outputs": [
    {
     "data": {
      "text/plain": [
       "0.9999999999999999"
      ]
     },
     "execution_count": 11,
     "metadata": {},
     "output_type": "execute_result"
    }
   ],
   "source": [
    "cpt2.data.sum()"
   ]
  },
  {
   "cell_type": "code",
   "execution_count": null,
   "id": "3f586818-e153-46d8-8f94-374318e8e3a2",
   "metadata": {},
   "outputs": [],
   "source": []
  }
 ],
 "metadata": {
  "kernelspec": {
   "display_name": "Python 3 (ipykernel)",
   "language": "python",
   "name": "python3"
  },
  "language_info": {
   "codemirror_mode": {
    "name": "ipython",
    "version": 3
   },
   "file_extension": ".py",
   "mimetype": "text/x-python",
   "name": "python",
   "nbconvert_exporter": "python",
   "pygments_lexer": "ipython3",
   "version": "3.9.13"
  }
 },
 "nbformat": 4,
 "nbformat_minor": 5
}
